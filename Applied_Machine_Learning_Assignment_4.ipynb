{
  "nbformat": 4,
  "nbformat_minor": 0,
  "metadata": {
    "colab": {
      "name": "Applied_Machine_Learning_Assignment_4.ipynb",
      "provenance": [],
      "collapsed_sections": []
    },
    "kernelspec": {
      "name": "python3",
      "display_name": "Python 3"
    },
    "language_info": {
      "name": "python"
    }
  },
  "cells": [
    {
      "cell_type": "code",
      "source": [
        "import pandas as pd\n",
        "import numpy as np\n",
        "from sklearn.ensemble import GradientBoostingClassifier\n",
        "from sklearn.model_selection import GridSearchCV\n",
        "from sklearn.preprocessing import MinMaxScaler\n",
        "from sklearn.model_selection import train_test_split\n",
        "from sklearn.metrics import roc_auc_score\n",
        "\n",
        "def blight_model():\n",
        "    \n",
        "    train_df=pd.read_csv('/content/drive/MyDrive/Dataset/Blight/train.csv',  encoding='cp1252')\n",
        "    test_df=pd.read_csv('/content/drive/MyDrive/Dataset/Blight/test.csv',  encoding='cp1252')\n",
        "    df_a=pd.read_csv('/content/drive/MyDrive/Dataset/Blight/addresses.csv',  encoding='cp1252')\n",
        "    df_g=pd.read_csv('/content/drive/MyDrive/Dataset/Blight/latlons.csv',  encoding='cp1252')\n",
        "\n",
        "    train_df = train_df[(train_df['compliance'] == 1) | (train_df['compliance'] == 0)]\n",
        "  \n",
        "    d = train_df.groupby(['inspector_name', 'compliance']).size()\n",
        "    data = d[:,1] / (d[:,0] + d[:,1])\n",
        "    inspector = pd.DataFrame(data = data)\n",
        "    inspector.fillna(0, inplace=True)\n",
        "    inspector.rename(columns = {0:'inspector_effciency'}, inplace = True)\n",
        "    train_df = train_df.set_index('inspector_name').join(inspector)\n",
        "    test_df = test_df.set_index('inspector_name').join(inspector) \n",
        "\n",
        "    train_df = train_df.reset_index()\n",
        "    test_df = test_df.reset_index()\n",
        "\n",
        "    d = train_df.groupby(['agency_name', 'compliance']).size()\n",
        "    data = d[:,1] / (d[:,0] + d[:,1])\n",
        "    agency = pd.DataFrame(data = data)\n",
        "    agency.fillna(0, inplace=True)\n",
        "    agency.rename(columns = {0:'agency_effciency'}, inplace = True)\n",
        "    train_df = train_df.set_index('agency_name').join(agency)\n",
        "    test_df = test_df.set_index('agency_name').join(agency)\n",
        "\n",
        "    train_df = train_df.reset_index()\n",
        "    test_df = test_df.reset_index()\n",
        "\n",
        "    address= df_a.set_index('address').join(df_g.set_index('address'), how='left')\n",
        "    train_df = train_df.set_index('ticket_id').join(address.set_index('ticket_id'))\n",
        "    test_df = test_df.set_index('ticket_id').join(address.set_index('ticket_id'))\n",
        "\n",
        "\n",
        "    columns_to_drop_train = ['violator_name','inspector_name','agency_name',\n",
        "       'violation_street_number', 'violation_street_name',\n",
        "       'violation_zip_code', 'mailing_address_str_number',\n",
        "       'mailing_address_str_name', 'city', 'state','non_us_str_code','country', 'ticket_issued_date',\n",
        "       'violation_description','payment_amount','violation_code','balance_due','grafitti_status',\n",
        "       'payment_date', 'payment_status', 'collection_status', 'compliance_detail','fine_amount', 'admin_fee', 'state_fee', 'late_fee',\n",
        "       'discount_amount', 'clean_up_cost', 'disposition','hearing_date','zip_code',\n",
        "       ]\n",
        "\n",
        "    columns_to_drop_test = ['violator_name','inspector_name','agency_name',\n",
        "       'violation_street_number', 'violation_street_name',\n",
        "       'violation_zip_code', 'mailing_address_str_number','violation_code','grafitti_status',\n",
        "       'mailing_address_str_name', 'city', 'state','non_us_str_code','country', 'ticket_issued_date', \n",
        "       'violation_description', 'fine_amount', 'admin_fee', 'state_fee', 'late_fee','zip_code',\n",
        "       'discount_amount', 'clean_up_cost','disposition', 'hearing_date']\n",
        "\n",
        "    \n",
        "    train_data =  train_df.drop(columns_to_drop_train, axis= 1)\n",
        "    test_data =  test_df.drop(columns_to_drop_test, axis= 1)\n",
        "\n",
        "    test_data.lat.fillna(method='pad', inplace=True)\n",
        "    test_data.lon.fillna(method='pad', inplace=True)\n",
        "    test_data.inspector_effciency.fillna(0, inplace=True)\n",
        "\n",
        "    train_data.lat.fillna(method='pad', inplace=True)\n",
        "    train_data.lon.fillna(method='pad', inplace=True)\n",
        " \n",
        "    y = train_data['compliance']\n",
        "    train_data.drop('compliance', axis =1, inplace=True)\n",
        "\n",
        "    scaler = MinMaxScaler()\n",
        "    X_train_scaled = scaler.fit_transform(train_data)\n",
        "    X_eval_scaled = scaler.transform(test_data)\n",
        "    \n",
        "    X_train, X_test, y_train, y_test = train_test_split(X_train_scaled, y, test_size = 0.25, random_state = 42)\n",
        "    \n",
        "    params= {'learning_rate': [0.3, 1, 3], 'n_estimators':[50], 'max_depth':[3, 5, 8]}\n",
        "    clf = GradientBoostingClassifier(random_state=0)\n",
        "    gscv = GridSearchCV(estimator=clf, param_grid=params, scoring='roc_auc', cv=3, n_jobs=-1)\n",
        "    gscv.fit(X_train, y_train)\n",
        "\n",
        "\n",
        "    y_eval = gscv.predict_proba(X_eval_scaled)[:,1]\n",
        "    predictions = pd.Series(y_eval, index = test_df.index)\n",
        "\n",
        "    return predictions"
      ],
      "metadata": {
        "id": "YQGu5SKEY0pn"
      },
      "execution_count": 85,
      "outputs": []
    },
    {
      "cell_type": "code",
      "source": [
        "blight_model()"
      ],
      "metadata": {
        "colab": {
          "base_uri": "https://localhost:8080/"
        },
        "id": "oIdZ-5WG3m-J",
        "outputId": "eee54bbe-b1e3-4b10-fb45-2276cb876dcb"
      },
      "execution_count": 86,
      "outputs": [
        {
          "output_type": "stream",
          "name": "stderr",
          "text": [
            "/usr/local/lib/python3.7/dist-packages/ipykernel_launcher.py:1: DtypeWarning: Columns (11,12,31) have mixed types.Specify dtype option on import or set low_memory=False.\n",
            "  \"\"\"Entry point for launching an IPython kernel.\n"
          ]
        },
        {
          "output_type": "execute_result",
          "data": {
            "text/plain": [
              "ticket_id\n",
              "285001    0.038109\n",
              "285006    0.024533\n",
              "286295    0.070909\n",
              "286290    0.072708\n",
              "286291    0.039111\n",
              "            ...   \n",
              "291280    0.826937\n",
              "291279    0.826937\n",
              "291277    0.826937\n",
              "293244    0.090316\n",
              "294214    0.116263\n",
              "Length: 61001, dtype: float64"
            ]
          },
          "metadata": {},
          "execution_count": 86
        }
      ]
    }
  ]
}